{
 "cells": [
  {
   "cell_type": "markdown",
   "id": "c1051e8e-4c96-4b75-ae75-0087fc75efa7",
   "metadata": {},
   "source": [
    "# 320d Project Report Template"
   ]
  },
  {
   "cell_type": "markdown",
   "id": "b0345414-9774-4281-8d77-3c04dc47be0d",
   "metadata": {},
   "source": [
    "## Introduction and restatement of requirements\n",
    "\n",
    "You should introduce your project and restate the project requirements you were given.  Approx 2-3 paragraphs."
   ]
  },
  {
   "cell_type": "markdown",
   "id": "5406baaa-0494-4f48-9f45-39bde17aae2f",
   "metadata": {},
   "source": [
    "## Data Ingestion\n",
    "\n",
    "### Documentation for source data"
   ]
  },
  {
   "cell_type": "markdown",
   "id": "07fbf402-c155-45a1-bf45-eec2c126211a",
   "metadata": {},
   "source": [
    "- Examples of Concrete data\n",
    "- Conceptual ER \n",
    "- Physical ER\n",
    "- Sample tables (screenshots are sufficient)"
   ]
  },
  {
   "cell_type": "markdown",
   "id": "be0932eb-0d4e-4dd4-ace5-2de13a30c54b",
   "metadata": {},
   "source": [
    "### SQL to create staging tables\n",
    "\n",
    "Write the SQL scripts to create the tables and describe how those scripts are run.  This was introduced when we discussed [Ingestion and Bulk Loading](https://chipzx92.github.io/DataEngineeringI320/presentations/ingestion-pt2/)"
   ]
  },
  {
   "cell_type": "markdown",
   "id": "8b91384d-158f-4d94-ac6d-ab32107af1f3",
   "metadata": {},
   "source": [
    "### Load script with \\copy commands\n",
    "\n",
    "Include preformatted Markdown cells with the content of your file with your \\copy commands. Show us where the file is and how it is run."
   ]
  },
  {
   "cell_type": "markdown",
   "id": "09a31aa5-d957-4aab-9df1-d2223da8423f",
   "metadata": {},
   "source": [
    "## Data Transformation\n",
    "\n",
    "### Transformation to Star Schema"
   ]
  },
  {
   "cell_type": "markdown",
   "id": "859fa5e6-e869-47b5-86e0-cf315953b754",
   "metadata": {},
   "source": [
    "#### Identify facts, grain, and dimensions\n",
    "\n",
    "Discuss your data to identify, with reference to the project requirements, the relevant facts, grain and dimensions.  Approx 1-2 paragraphs."
   ]
  },
  {
   "cell_type": "markdown",
   "id": "6c789a73-95e6-4c9a-a9eb-bbd81fb5ea77",
   "metadata": {},
   "source": [
    "#### Transformation diagram\n",
    "\n",
    "Create and include a transformation diagram, as we did in class in [Dimensional Modeling Pt 2](https://chipzx92.github.io/DataEngineeringI320/presentations/dimensional_modeling-pt2)"
   ]
  },
  {
   "cell_type": "markdown",
   "id": "2ac6d5c1-0a35-4188-a29c-995e360164e5",
   "metadata": {},
   "source": [
    "#### Documentation for star schema\n",
    "\n",
    "- Examples of Concrete data (for the star schema)\n",
    "- Conceptual ER (for the star schema)\n",
    "- Physical ER (for the star schema)\n",
    "- Sample tables (screenshots are sufficient)"
   ]
  },
  {
   "cell_type": "markdown",
   "id": "11764588-ff95-404b-b76b-73c02022d8ce",
   "metadata": {},
   "source": [
    "#### dbt models transforming to star schema\n",
    "\n",
    "Include Markdown cells with the contents of your dbt model files used to create your star schema (fact and dimension tables). These were introduced when we covered [dbt intro](https://chipzx92.github.io/DataEngineeringI320/presentations/dbt_intro/)"
   ]
  },
  {
   "cell_type": "markdown",
   "id": "b5802e84-61d4-4c21-a727-cee56e970431",
   "metadata": {},
   "source": [
    "### Transformation to Data Products\n",
    "\n",
    "#### Rationale for data products produced\n",
    "\n",
    "Explain why you created the data products you chose to create; explain how these data products enable you to address your project requirements."
   ]
  },
  {
   "cell_type": "markdown",
   "id": "50a85287-74ea-4b3f-81ec-b3dc2460dd82",
   "metadata": {},
   "source": [
    "#### dbt model files to create and load the data into your data product(s)\n",
    "\n",
    "Include Markdown cells with the contents of your dbt model files used to create your data products."
   ]
  },
  {
   "cell_type": "markdown",
   "id": "e0f42460-8c1b-4cae-9059-c64084e4b62e",
   "metadata": {},
   "source": [
    "## Data Analysis and Visualization"
   ]
  },
  {
   "cell_type": "markdown",
   "id": "50ba0580-e714-4369-bd40-54832bc23d25",
   "metadata": {},
   "source": [
    "### Addressing project requirements\n",
    "\n",
    "- Using visualizations published on Superset, explain your answers to the project requirements.  Download your dashboard as an image and include a discussion of how the visualization answers your project requirements.  Also include a link directly to your dashboard on Superset (for interactive exploration)."
   ]
  },
  {
   "cell_type": "markdown",
   "id": "ddb426c2-bfcc-479a-ac2d-c177fb7ede20",
   "metadata": {},
   "source": [
    "## Document your visualization decisions\n",
    "\n",
    "- Explain the visualization options you considered and why your group decided that these particular visualizations were most appropriate to answer the questions.  \n",
    "- Explain your choice of colorscheme (if used). \n",
    "- Explain how you aligned your data product(s) to make them align with your visualizations (e.g., what aliases did you createin the data products)"
   ]
  },
  {
   "cell_type": "markdown",
   "id": "6842e0f7-30ee-48bf-824b-2fe33494cacc",
   "metadata": {},
   "source": [
    "## Reflection and challenges addressed\n",
    "\n",
    "In about 200 words describe the challenges that your group faced with their project and how they were addressed. \n",
    "\n",
    "Include a few sentences that celebrate the aspects of your project of which you are proud."
   ]
  }
 ],
 "metadata": {
  "kernelspec": {
   "display_name": "Python 3 (ipykernel)",
   "language": "python",
   "name": "python3"
  },
  "language_info": {
   "codemirror_mode": {
    "name": "ipython",
    "version": 3
   },
   "file_extension": ".py",
   "mimetype": "text/x-python",
   "name": "python",
   "nbconvert_exporter": "python",
   "pygments_lexer": "ipython3",
   "version": "3.8.10"
  }
 },
 "nbformat": 4,
 "nbformat_minor": 5
}